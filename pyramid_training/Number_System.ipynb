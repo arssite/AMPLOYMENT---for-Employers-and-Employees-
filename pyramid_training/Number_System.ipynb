{
  "nbformat": 4,
  "nbformat_minor": 0,
  "metadata": {
    "colab": {
      "provenance": [],
      "authorship_tag": "ABX9TyNl4pIQLhIVOlKHXWBBiF2X",
      "include_colab_link": true
    },
    "kernelspec": {
      "name": "python3",
      "display_name": "Python 3"
    },
    "language_info": {
      "name": "python"
    }
  },
  "cells": [
    {
      "cell_type": "markdown",
      "metadata": {
        "id": "view-in-github",
        "colab_type": "text"
      },
      "source": [
        "<a href=\"https://colab.research.google.com/github/arssite/AMPLOYMENT---for-Employers-and-Employees-/blob/main/pyramid_training/Number_System.ipynb\" target=\"_parent\"><img src=\"https://colab.research.google.com/assets/colab-badge.svg\" alt=\"Open In Colab\"/></a>"
      ]
    },
    {
      "cell_type": "markdown",
      "source": [
        "Program to decimal to binary"
      ],
      "metadata": {
        "id": "E4JooTrTk0HS"
      }
    },
    {
      "cell_type": "code",
      "execution_count": 25,
      "metadata": {
        "id": "QkmS16Apjly7"
      },
      "outputs": [],
      "source": [
        "def d2b(x):\n",
        "  lst=[]\n",
        "  if x==0:\n",
        "    print(\"Scratch Function\",0)\n",
        "  else:\n",
        "    while x >= 1:\n",
        "      y =x % 2\n",
        "      lst.append(y)\n",
        "      x = x // 2\n",
        "    print(\"Scratch Function\",*lst[-1::-1])\n"
      ]
    },
    {
      "cell_type": "code",
      "source": [
        "def d2b_m2(x):\n",
        "  b=''\n",
        "  if x==0:\n",
        "    return \"string\",0\n",
        "  while x>0:\n",
        "    b=str(x%2)+b\n",
        "    x=x//2\n",
        "    return \"String\",b"
      ],
      "metadata": {
        "id": "XxoFyUevnEy-"
      },
      "execution_count": 31,
      "outputs": []
    },
    {
      "cell_type": "code",
      "source": [
        "def binn(x):\n",
        "  x=bin(x)\n",
        "  print(\"Prebuild Function\",x[2:])"
      ],
      "metadata": {
        "id": "1eekBAFVk9bn"
      },
      "execution_count": 32,
      "outputs": []
    },
    {
      "cell_type": "code",
      "source": [
        "x=input('Enter Number to Convert: ')\n",
        "d2b(int(x))\n",
        "binn(int(x))\n",
        "print(\"Method\",d2b_m2(int(x)))"
      ],
      "metadata": {
        "colab": {
          "base_uri": "https://localhost:8080/"
        },
        "id": "RksZouGik7c5",
        "outputId": "d7b6fe19-c67a-4f39-efbb-f143643daaf6"
      },
      "execution_count": 34,
      "outputs": [
        {
          "output_type": "stream",
          "name": "stdout",
          "text": [
            "Enter Number to Convert: 1\n",
            "Scratch Function 1\n",
            "Prebuild Function 1\n",
            "Method ('String', '1')\n"
          ]
        }
      ]
    },
    {
      "cell_type": "code",
      "source": [],
      "metadata": {
        "id": "aCPcXJghomcE"
      },
      "execution_count": null,
      "outputs": []
    }
  ]
}